{
 "cells": [
  {
   "cell_type": "code",
   "execution_count": 1,
   "metadata": {},
   "outputs": [],
   "source": [
    "import numpy as np\n",
    "import matplotlib.pyplot as plt\n",
    "\n",
    "from sklearn import datasets\n",
    "from sklearn.model_selection import train_test_split\n",
    "from sklearn.neighbors import KNeighborsClassifier\n",
    "from sklearn import datasets\n",
    "from sklearn import metrics\n",
    "\n",
    "from Utils import plot_features, wrong_predicts\n",
    "from PotentialClassesClassifier import PotentialFunctionClassifier"
   ]
  },
  {
   "cell_type": "code",
   "execution_count": 2,
   "metadata": {},
   "outputs": [],
   "source": [
    "iris = datasets.load_iris()\n",
    "# 150 flowers. Each flower has 4 features\n",
    "X = iris.data\n",
    "y = iris.target\n",
    "features_names = iris.feature_names"
   ]
  },
  {
   "cell_type": "code",
   "execution_count": 3,
   "metadata": {},
   "outputs": [],
   "source": [
    "# plt.figure(figsize=(10, 8), dpi=100)\n",
    "# plot_features(X=X, Y=y, f_names=features_names)"
   ]
  },
  {
   "cell_type": "code",
   "execution_count": 4,
   "metadata": {},
   "outputs": [],
   "source": [
    "train_x, test_x, train_y, test_y = train_test_split(X, y, test_size=0.33, random_state=10)"
   ]
  },
  {
   "cell_type": "code",
   "execution_count": 5,
   "metadata": {},
   "outputs": [],
   "source": [
    "model = PotentialFunctionClassifier(window_size=10)\n",
    "model.fit(train_x, train_y, 5)\n",
    "pred = model.predict(test_x)"
   ]
  },
  {
   "cell_type": "code",
   "execution_count": null,
   "metadata": {},
   "outputs": [],
   "source": [
    "print(\"Accuracy on test: \", metrics.accuracy_score(test_y, pred))\n",
    "print(\"Accuracy on train: \", metrics.accuracy_score(train_y, model.predict(train_x)))\n",
    "print(\"Accuracy on whole data: \", metrics.accuracy_score(y, model.predict(X)))"
   ]
  },
  {
   "cell_type": "code",
   "execution_count": null,
   "metadata": {},
   "outputs": [],
   "source": [
    "plot_features(test_x, test_y, features_names, wrong_predicts(pred, test_y))"
   ]
  },
  {
   "cell_type": "code",
   "execution_count": null,
   "metadata": {},
   "outputs": [],
   "source": [
    "model = KNeighborsClassifier(weights=lambda x: 1 / (x + 1))\n",
    "model.fit(train_x, train_y)\n",
    "pred = model.predict(test_x)"
   ]
  },
  {
   "cell_type": "code",
   "execution_count": null,
   "metadata": {},
   "outputs": [],
   "source": [
    "print(\"Accuracy on test: \", metrics.accuracy_score(test_y, pred))\n",
    "print(\"Accuracy on train: \", metrics.accuracy_score(train_y, model.predict(train_x)))\n",
    "print(\"Accuracy on whole data: \", metrics.accuracy_score(y, model.predict(X)))"
   ]
  },
  {
   "cell_type": "code",
   "execution_count": null,
   "metadata": {},
   "outputs": [],
   "source": [
    "plot_features(test_x, test_y, features_names, wrong_predicts(pred, test_y))"
   ]
  },
  {
   "cell_type": "code",
   "execution_count": null,
   "metadata": {},
   "outputs": [],
   "source": [
    "model = PotentialFunctionClassifier(window_size=10)\n",
    "model.set_classifier_parameters(train_x=train_x, train_y=train_y)\n",
    "pred = model.predict(test_x)"
   ]
  },
  {
   "cell_type": "code",
   "execution_count": null,
   "metadata": {},
   "outputs": [],
   "source": [
    "print(\"Accuracy on test: \", metrics.accuracy_score(test_y, pred))\n",
    "print(\"Accuracy on train: \", metrics.accuracy_score(train_y, model.predict(train_x)))\n",
    "print(\"Accuracy on whole data: \", metrics.accuracy_score(y, model.predict(X)))"
   ]
  },
  {
   "cell_type": "code",
   "execution_count": null,
   "metadata": {},
   "outputs": [],
   "source": [
    "plot_features(test_x, test_y, features_names, wrong_predicts(pred, test_y))\n",
    "\n",
    "# Отрисовать объекты с нулевыми потенциалами (или не с нулевыми), а также как зависит от window_size"
   ]
  },
  {
   "cell_type": "code",
   "execution_count": null,
   "metadata": {},
   "outputs": [],
   "source": []
  }
 ],
 "metadata": {
  "interpreter": {
   "hash": "ac59ebe37160ed0dfa835113d9b8498d9f09ceb179beaac4002f036b9467c963"
  },
  "kernelspec": {
   "display_name": "Python 3.9.7 64-bit",
   "name": "python3"
  },
  "language_info": {
   "codemirror_mode": {
    "name": "ipython",
    "version": 3
   },
   "file_extension": ".py",
   "mimetype": "text/x-python",
   "name": "python",
   "nbconvert_exporter": "python",
   "pygments_lexer": "ipython3",
   "version": "3.9.7"
  },
  "orig_nbformat": 4
 },
 "nbformat": 4,
 "nbformat_minor": 2
}
