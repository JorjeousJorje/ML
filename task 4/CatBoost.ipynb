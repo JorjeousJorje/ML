{
 "cells": [
  {
   "cell_type": "code",
   "execution_count": 1,
   "metadata": {},
   "outputs": [],
   "source": [
    "import pandas as pd\n",
    "import numpy as np\n",
    "import seaborn as sns\n",
    "import os\n",
    "\n",
    "from scipy.stats import uniform, randint, loguniform\n",
    "from sklearn.metrics import mean_squared_error\n",
    "from sklearn.model_selection import train_test_split, RandomizedSearchCV\n",
    "from catboost import CatBoostRegressor\n",
    "\n",
    "from DataTransformer import DataTransformer\n",
    "from TrainUtils import *\n",
    "\n",
    "\n",
    "%load_ext autoreload\n",
    "%autoreload 2"
   ]
  },
  {
   "cell_type": "code",
   "execution_count": 3,
   "metadata": {},
   "outputs": [
    {
     "name": "stdout",
     "output_type": "stream",
     "text": [
      "Is there nan: False\n"
     ]
    }
   ],
   "source": [
    "train_df, target = load_data()\n",
    "\n",
    "transformer = DataTransformer()\n",
    "X = transformer.fit_transform(train_df, obj_to_num=False)\n",
    "X = X.iloc[np.random.choice(np.arange(len(X)), 300, False)]\n",
    "y = target[X.index]\n",
    "\n",
    "cat_features = np.where(X.loc[:, X.columns.values].dtypes == \"object\")[0]\n",
    "to_categorical(X)\n",
    "print(f\"Is there nan: {np.any(X.isnull())}\")"
   ]
  },
  {
   "cell_type": "code",
   "execution_count": 4,
   "metadata": {},
   "outputs": [],
   "source": [
    "parameters = {\n",
    "    \"n_estimators\": randint(2000, 10000),\n",
    "    \"learning_rate\": uniform(1e-3,  1e-1),\n",
    "    \"depth\": randint(1, 5),\n",
    "    \"l2_leaf_reg\": loguniform(10, 40)\n",
    "    }\n",
    "\n",
    "model = CatBoostRegressor( task_type=\"CPU\", \n",
    "                           logging_level='Silent', \n",
    "                           random_seed=0,\n",
    "                           cat_features=cat_features)\n",
    "\n",
    "grid_model = RandomizedSearchCV(model, parameters, cv=5, n_jobs=-1)\n",
    "grid_model.fit(X, y);"
   ]
  },
  {
   "cell_type": "code",
   "execution_count": 5,
   "metadata": {},
   "outputs": [
    {
     "name": "stdout",
     "output_type": "stream",
     "text": [
      "{'depth': 3, 'l2_leaf_reg': 16.209120761949496, 'learning_rate': 0.03435134427611224, 'n_estimators': 3024}\n"
     ]
    }
   ],
   "source": [
    "print(grid_model.best_params_)\n",
    "\n",
    "train_df, target = load_data()\n",
    "\n",
    "X = transformer.fit_transform(train_df, obj_to_num=False)\n",
    "y = target\n",
    "cat_features = np.where(X.loc[:, X.columns.values].dtypes == \"object\")[0]\n",
    "to_categorical(X)\n",
    "\n",
    "gs_model = CatBoostRegressor(**grid_model.best_params_,\n",
    "                               task_type=\"CPU\", \n",
    "                               logging_level='Silent', \n",
    "                               random_seed=0,\n",
    "                               cat_features=cat_features)\n",
    "\n",
    "X_train, X_test, y_train, y_test = train_test_split(X, y, test_size=0.2, random_state=98987)\n",
    "gs_model.fit(X_train, y_train);"
   ]
  },
  {
   "cell_type": "code",
   "execution_count": 6,
   "metadata": {},
   "outputs": [
    {
     "name": "stdout",
     "output_type": "stream",
     "text": [
      "RMSLE: 0.07797091101853514\n",
      "RMSLE: 0.14448462063807313\n"
     ]
    }
   ],
   "source": [
    "evaluate(gs_model, X_train, y_train)\n",
    "evaluate(gs_model, X_test, y_test)"
   ]
  },
  {
   "cell_type": "code",
   "execution_count": 8,
   "metadata": {},
   "outputs": [],
   "source": [
    "gs_model = CatBoostRegressor(**grid_model.best_params_,\n",
    "                               task_type=\"CPU\", \n",
    "                               logging_level='Silent', \n",
    "                               random_seed=0,\n",
    "                               cat_features=cat_features)\n",
    "train_df, y = load_data()\n",
    "X = transformer.fit_transform(train_df, obj_to_num=False)\n",
    "gs_model.fit(X, y);"
   ]
  },
  {
   "cell_type": "code",
   "execution_count": 9,
   "metadata": {},
   "outputs": [
    {
     "name": "stdout",
     "output_type": "stream",
     "text": [
      "RMSLE submission: 0.12439862990394106\n"
     ]
    }
   ],
   "source": [
    "submission(transformer=transformer, gs_model=gs_model, obj_to_num=False)"
   ]
  },
  {
   "cell_type": "code",
   "execution_count": null,
   "metadata": {},
   "outputs": [],
   "source": []
  }
 ],
 "metadata": {
  "interpreter": {
   "hash": "ac59ebe37160ed0dfa835113d9b8498d9f09ceb179beaac4002f036b9467c963"
  },
  "kernelspec": {
   "display_name": "Python 3.9.7 64-bit",
   "language": "python",
   "name": "python3"
  },
  "language_info": {
   "codemirror_mode": {
    "name": "ipython",
    "version": 3
   },
   "file_extension": ".py",
   "mimetype": "text/x-python",
   "name": "python",
   "nbconvert_exporter": "python",
   "pygments_lexer": "ipython3",
   "version": "3.9.7"
  },
  "orig_nbformat": 4
 },
 "nbformat": 4,
 "nbformat_minor": 2
}
