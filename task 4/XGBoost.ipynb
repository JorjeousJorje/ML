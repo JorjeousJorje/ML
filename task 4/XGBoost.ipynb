{
 "cells": [
  {
   "cell_type": "code",
   "execution_count": null,
   "metadata": {},
   "outputs": [],
   "source": [
    "import pandas as pd\n",
    "import numpy as np\n",
    "import seaborn as sns\n",
    "import os\n",
    "\n",
    "from scipy.stats import uniform, randint\n",
    "from sklearn.metrics import mean_squared_error\n",
    "from sklearn.model_selection import train_test_split, RandomizedSearchCV\n",
    "from xgboost import XGBRegressor\n",
    "\n",
    "from DataTransformer import DataTransformer\n",
    "from DataProcessingUtils import *\n",
    "from TrainUtils import *"
   ]
  },
  {
   "cell_type": "code",
   "execution_count": null,
   "metadata": {},
   "outputs": [],
   "source": [
    "data_folder = \"data\"\n",
    "train_path = os.path.join(data_folder, \"train.csv\")\n",
    "\n",
    "train_df: pd.DataFrame = pd.read_csv(train_path).drop(\"Id\", axis=1)\n",
    "y = np.log1p(train_df['SalePrice'])\n",
    "X: pd.DataFrame = train_df.drop(columns='SalePrice', axis=1)\n",
    "\n",
    "transformer = DataTransformer()\n",
    "X = transformer.fit_transform(X)\n",
    "X = X.astype(str)\n",
    "X = convert_to_numeric(X)\n",
    "\n",
    "print(f\"Is there nan: {np.any(X.isnull())}\")"
   ]
  },
  {
   "cell_type": "code",
   "execution_count": null,
   "metadata": {},
   "outputs": [],
   "source": [
    "X_train, X_test, y_train, y_test = train_test_split(X, y, test_size=0.2, random_state=98987)"
   ]
  },
  {
   "cell_type": "code",
   "execution_count": null,
   "metadata": {},
   "outputs": [],
   "source": [
    "parameters = {\n",
    "    \"learning_rate\": uniform(1e-3,  1e-1),\n",
    "    \"max_depth\": randint(1, 100),\n",
    "    \"min_child_weight\": randint(1, 15),\n",
    "    \"n_estimators\": randint(1, 1000),\n",
    "    \"colsample_bytree\": uniform(1e-1,  1)}\n",
    "\n",
    "grid_model = RandomizedSearchCV(XGBRegressor(), parameters, cv=3, n_jobs=-1)\n",
    "grid_model.fit(X_train, y_train)\n",
    "grid_model"
   ]
  },
  {
   "cell_type": "code",
   "execution_count": 9,
   "metadata": {},
   "outputs": [],
   "source": [
    "gs_model = XGBRegressor(**grid_model.best_params_)\n",
    "gs_model.fit(X_train, y_train);"
   ]
  },
  {
   "cell_type": "code",
   "execution_count": 10,
   "metadata": {},
   "outputs": [
    {
     "name": "stdout",
     "output_type": "stream",
     "text": [
      "RMSLE: 0.037523476026545835\n",
      "RMSLE: 0.15596662611930004\n"
     ]
    }
   ],
   "source": [
    "evaluate(gs_model, X_train, y_train)\n",
    "evaluate(gs_model, X_test, y_test)"
   ]
  },
  {
   "cell_type": "code",
   "execution_count": null,
   "metadata": {},
   "outputs": [],
   "source": []
  }
 ],
 "metadata": {
  "interpreter": {
   "hash": "ac59ebe37160ed0dfa835113d9b8498d9f09ceb179beaac4002f036b9467c963"
  },
  "kernelspec": {
   "display_name": "Python 3.9.7 64-bit",
   "language": "python",
   "name": "python3"
  },
  "language_info": {
   "codemirror_mode": {
    "name": "ipython",
    "version": 3
   },
   "file_extension": ".py",
   "mimetype": "text/x-python",
   "name": "python",
   "nbconvert_exporter": "python",
   "pygments_lexer": "ipython3",
   "version": "3.9.7"
  },
  "orig_nbformat": 4
 },
 "nbformat": 4,
 "nbformat_minor": 2
}
