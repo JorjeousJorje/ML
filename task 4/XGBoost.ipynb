{
 "cells": [
  {
   "cell_type": "code",
   "execution_count": 1,
   "metadata": {},
   "outputs": [],
   "source": [
    "import pandas as pd\n",
    "import numpy as np\n",
    "import seaborn as sns\n",
    "import os\n",
    "\n",
    "from scipy.stats import uniform, randint, loguniform\n",
    "from sklearn.metrics import mean_squared_error\n",
    "from sklearn.model_selection import train_test_split, RandomizedSearchCV\n",
    "from xgboost import XGBRegressor\n",
    "\n",
    "from DataTransformer import DataTransformer\n",
    "from TrainUtils import *\n",
    "\n",
    "\n",
    "%load_ext autoreload\n",
    "%autoreload 2"
   ]
  },
  {
   "cell_type": "code",
   "execution_count": 2,
   "metadata": {},
   "outputs": [
    {
     "name": "stdout",
     "output_type": "stream",
     "text": [
      "Is there nan: False\n"
     ]
    }
   ],
   "source": [
    "train_df, target = load_data()\n",
    "\n",
    "transformer = DataTransformer()\n",
    "X = transformer.fit_transform(train_df, obj_to_num=True)\n",
    "X = X.iloc[np.random.choice(np.arange(len(X)), 300, False)]\n",
    "y = target[X.index]\n",
    "\n",
    "\n",
    "print(f\"Is there nan: {np.any(X.isnull())}\")"
   ]
  },
  {
   "cell_type": "code",
   "execution_count": 3,
   "metadata": {},
   "outputs": [
    {
     "name": "stderr",
     "output_type": "stream",
     "text": [
      "C:\\Users\\georg\\AppData\\Roaming\\Python\\Python39\\site-packages\\sklearn\\model_selection\\_search.py:922: UserWarning: One or more of the test scores are non-finite: [       nan        nan 0.82574616 0.80043656        nan 0.81607069\n",
      "        nan 0.80833979        nan 0.81734095]\n",
      "  warnings.warn(\n"
     ]
    }
   ],
   "source": [
    "parameters = {\n",
    "    \"learning_rate\": loguniform(5e-3,  1e-1),\n",
    "    \"max_depth\": randint(1, 500),\n",
    "    \"n_estimators\": randint(5000, 15000),\n",
    "    \"lambda\" : loguniform(1e-4, 10),\n",
    "    \"subsample\" : uniform(0.4, 1),\n",
    "    \"min_child_weight\" : loguniform(0.1, 55),\n",
    "    \"gamma\" : loguniform(1e-4, 10)\n",
    "    }\n",
    "grid_model = RandomizedSearchCV(XGBRegressor(seed=0), parameters, cv=3, n_jobs=-1)\n",
    "grid_model.fit(X, y);"
   ]
  },
  {
   "cell_type": "code",
   "execution_count": 4,
   "metadata": {},
   "outputs": [
    {
     "name": "stdout",
     "output_type": "stream",
     "text": [
      "{'gamma': 0.0042837547518491965, 'lambda': 0.0029124722325491285, 'learning_rate': 0.024167616986944442, 'max_depth': 444, 'min_child_weight': 1.9615345776352848, 'n_estimators': 9919, 'subsample': 0.6701046206512675}\n"
     ]
    }
   ],
   "source": [
    "print(grid_model.best_params_)\n",
    "\n",
    "gs_model = XGBRegressor(**grid_model.best_params_, seed=0)\n",
    "\n",
    "train_df, target = load_data()\n",
    "X = transformer.fit_transform(train_df, obj_to_num=True)\n",
    "y = target\n",
    "gs_model.fit(X, y);"
   ]
  },
  {
   "cell_type": "code",
   "execution_count": 5,
   "metadata": {},
   "outputs": [
    {
     "name": "stdout",
     "output_type": "stream",
     "text": [
      "RMSLE submission: 0.13101237547992442\n"
     ]
    }
   ],
   "source": [
    "submission(transformer=transformer, gs_model=gs_model, obj_to_num=True)"
   ]
  },
  {
   "cell_type": "code",
   "execution_count": 6,
   "metadata": {},
   "outputs": [
    {
     "data": {
      "text/plain": [
       "0.12291506349262009"
      ]
     },
     "execution_count": 6,
     "metadata": {},
     "output_type": "execute_result"
    }
   ],
   "source": [
    "0.12291506349262009"
   ]
  }
 ],
 "metadata": {
  "interpreter": {
   "hash": "ac59ebe37160ed0dfa835113d9b8498d9f09ceb179beaac4002f036b9467c963"
  },
  "kernelspec": {
   "display_name": "Python 3.9.7 64-bit",
   "language": "python",
   "name": "python3"
  },
  "language_info": {
   "codemirror_mode": {
    "name": "ipython",
    "version": 3
   },
   "file_extension": ".py",
   "mimetype": "text/x-python",
   "name": "python",
   "nbconvert_exporter": "python",
   "pygments_lexer": "ipython3",
   "version": "3.9.7"
  },
  "orig_nbformat": 4
 },
 "nbformat": 4,
 "nbformat_minor": 2
}
