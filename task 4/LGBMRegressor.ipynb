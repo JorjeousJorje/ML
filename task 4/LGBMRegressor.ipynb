{
 "cells": [
  {
   "cell_type": "code",
   "execution_count": 1,
   "metadata": {},
   "outputs": [],
   "source": [
    "import pandas as pd\n",
    "import numpy as np\n",
    "import seaborn as sns\n",
    "import os\n",
    "\n",
    "from scipy.stats import uniform, randint, loguniform\n",
    "from sklearn.metrics import mean_squared_error\n",
    "from sklearn.model_selection import train_test_split, RandomizedSearchCV\n",
    "from lightgbm import LGBMRegressor, Dataset\n",
    "\n",
    "from DataTransformer import DataTransformer\n",
    "from TrainUtils import *\n",
    "\n",
    "\n",
    "%load_ext autoreload\n",
    "%autoreload 2"
   ]
  },
  {
   "cell_type": "code",
   "execution_count": 2,
   "metadata": {},
   "outputs": [
    {
     "name": "stdout",
     "output_type": "stream",
     "text": [
      "Is there nan: False\n"
     ]
    }
   ],
   "source": [
    "train_df, target = load_data()\n",
    "\n",
    "transformer = DataTransformer()\n",
    "X = transformer.fit_transform(train_df, obj_to_num=True)\n",
    "X = X.iloc[np.random.choice(np.arange(len(X)), 300, False)]\n",
    "y = target[X.index]\n",
    "print(f\"Is there nan: {np.any(X.isnull())}\")"
   ]
  },
  {
   "cell_type": "code",
   "execution_count": 6,
   "metadata": {},
   "outputs": [
    {
     "name": "stderr",
     "output_type": "stream",
     "text": [
      "C:\\Users\\georg\\AppData\\Roaming\\Python\\Python39\\site-packages\\sklearn\\model_selection\\_search.py:922: UserWarning: One or more of the test scores are non-finite: [0.87881704        nan 0.87162595 0.89116513 0.88371226        nan\n",
      " 0.88974536        nan 0.90373963 0.86720806]\n",
      "  warnings.warn(\n"
     ]
    },
    {
     "name": "stdout",
     "output_type": "stream",
     "text": [
      "[LightGBM] [Warning] feature_fraction is set=0.4475454182303542, colsample_bytree=1.0 will be ignored. Current value: feature_fraction=0.4475454182303542\n",
      "[LightGBM] [Warning] bagging_fraction is set=0.5180773823433381, subsample=1.0 will be ignored. Current value: bagging_fraction=0.5180773823433381\n",
      "[LightGBM] [Warning] lambda_l2 is set=0.022581276677351853, reg_lambda=0.0 will be ignored. Current value: lambda_l2=0.022581276677351853\n",
      "[LightGBM] [Warning] bagging_freq is set=6, subsample_freq=0 will be ignored. Current value: bagging_freq=6\n"
     ]
    }
   ],
   "source": [
    "parameters = {\n",
    "    \"learning_rate\": loguniform(5e-3,  1e-1),\n",
    "    \"max_depth\": randint(1, 500),\n",
    "    \"n_estimators\": randint(5000, 20000),\n",
    "    \"lambda_l2\" : loguniform(1e-4, 10),\n",
    "    \"bagging_fraction\" : uniform(0.4, 1),\n",
    "    \"feature_fraction\" : uniform(0.4, 1),\n",
    "    \"bagging_freq\": randint(3, 14),\n",
    "    \"min_child_samples\": randint(1, 50)\n",
    "    }\n",
    "\n",
    "grid_model = RandomizedSearchCV(LGBMRegressor(seed=0), parameters, cv=3, n_jobs=-1)\n",
    "grid_model.fit(X, y);"
   ]
  },
  {
   "cell_type": "code",
   "execution_count": 7,
   "metadata": {},
   "outputs": [
    {
     "name": "stdout",
     "output_type": "stream",
     "text": [
      "{'bagging_fraction': 0.5180773823433381, 'bagging_freq': 6, 'feature_fraction': 0.4475454182303542, 'lambda_l2': 0.022581276677351853, 'learning_rate': 0.014251446215944628, 'max_depth': 428, 'min_child_samples': 3, 'n_estimators': 5529}\n"
     ]
    }
   ],
   "source": [
    "print(grid_model.best_params_)\n",
    "\n",
    "\n",
    "train_df, target = load_data()\n",
    "X = transformer.fit_transform(train_df, obj_to_num=True)\n",
    "y = target\n",
    "\n",
    "gs_model = LGBMRegressor(**grid_model.best_params_, seed=0)\n",
    "gs_model.fit(X, y);"
   ]
  },
  {
   "cell_type": "code",
   "execution_count": 8,
   "metadata": {},
   "outputs": [
    {
     "name": "stdout",
     "output_type": "stream",
     "text": [
      "RMSLE submission: 0.12472136016995208\n"
     ]
    }
   ],
   "source": [
    "submission(transformer=transformer, gs_model=gs_model, obj_to_num=True)"
   ]
  },
  {
   "cell_type": "code",
   "execution_count": null,
   "metadata": {},
   "outputs": [],
   "source": []
  },
  {
   "cell_type": "code",
   "execution_count": null,
   "metadata": {},
   "outputs": [],
   "source": []
  }
 ],
 "metadata": {
  "interpreter": {
   "hash": "ac59ebe37160ed0dfa835113d9b8498d9f09ceb179beaac4002f036b9467c963"
  },
  "kernelspec": {
   "display_name": "Python 3.9.7 64-bit",
   "language": "python",
   "name": "python3"
  },
  "language_info": {
   "codemirror_mode": {
    "name": "ipython",
    "version": 3
   },
   "file_extension": ".py",
   "mimetype": "text/x-python",
   "name": "python",
   "nbconvert_exporter": "python",
   "pygments_lexer": "ipython3",
   "version": "3.9.7"
  },
  "orig_nbformat": 4
 },
 "nbformat": 4,
 "nbformat_minor": 2
}
