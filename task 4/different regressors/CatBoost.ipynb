{
 "cells": [
  {
   "cell_type": "code",
   "execution_count": 1,
   "metadata": {},
   "outputs": [],
   "source": [
    "import pandas as pd\n",
    "import numpy as np\n",
    "import seaborn as sns\n",
    "import os\n",
    "\n",
    "from scipy.stats import uniform, randint\n",
    "from sklearn.metrics import mean_squared_error\n",
    "from sklearn.model_selection import train_test_split\n",
    "from catboost import CatBoostRegressor, Pool\n",
    "\n",
    "from DataTransformer import DataTransformer\n",
    "from TrainUtils import *"
   ]
  },
  {
   "cell_type": "code",
   "execution_count": 3,
   "metadata": {},
   "outputs": [
    {
     "name": "stdout",
     "output_type": "stream",
     "text": [
      "Is there nan: False\n"
     ]
    }
   ],
   "source": [
    "data_folder = \"data\"\n",
    "train_path = os.path.join(data_folder, \"train.csv\")\n",
    "\n",
    "train_df: pd.DataFrame = pd.read_csv(train_path).drop(\"Id\", axis=1)\n",
    "y = np.log1p(train_df['SalePrice'])\n",
    "X: pd.DataFrame = train_df.drop(columns='SalePrice', axis=1)\n",
    "\n",
    "transformer = DataTransformer()\n",
    "X = transformer.fit_transform(X)\n",
    "X = X.astype(str)\n",
    "\n",
    "print(f\"Is there nan: {np.any(X.isnull())}\")"
   ]
  },
  {
   "cell_type": "code",
   "execution_count": 4,
   "metadata": {},
   "outputs": [],
   "source": [
    "X_train, X_test, y_train, y_test = train_test_split(X, y, test_size=0.2, random_state=98987)\n",
    "cat_features = np.where(X_train.loc[:, X_train.columns.values].dtypes == \"object\")[0]"
   ]
  },
  {
   "cell_type": "code",
   "execution_count": 5,
   "metadata": {},
   "outputs": [
    {
     "name": "stdout",
     "output_type": "stream",
     "text": [
      "0:\tloss: 0.4657897\tbest: 0.4657897 (0)\ttotal: 1.04s\tremaining: 9.38s\n",
      "1:\tloss: 0.6007477\tbest: 0.4657897 (0)\ttotal: 2.72s\tremaining: 10.9s\n",
      "2:\tloss: 0.2705522\tbest: 0.2705522 (2)\ttotal: 10.4s\tremaining: 24.3s\n",
      "3:\tloss: 2.6601132\tbest: 0.2705522 (2)\ttotal: 13.2s\tremaining: 19.8s\n",
      "4:\tloss: 0.1366078\tbest: 0.1366078 (4)\ttotal: 17.2s\tremaining: 17.2s\n",
      "5:\tloss: 0.1551062\tbest: 0.1366078 (4)\ttotal: 30.6s\tremaining: 20.4s\n",
      "6:\tloss: 0.1317126\tbest: 0.1317126 (6)\ttotal: 40.4s\tremaining: 17.3s\n",
      "7:\tloss: 0.2664496\tbest: 0.1317126 (6)\ttotal: 41.4s\tremaining: 10.4s\n",
      "8:\tloss: 0.2665391\tbest: 0.1317126 (6)\ttotal: 2m 9s\tremaining: 14.4s\n",
      "9:\tloss: 4.8633964\tbest: 0.1317126 (6)\ttotal: 2m 16s\tremaining: 0us\n",
      "Estimating final quality...\n"
     ]
    }
   ],
   "source": [
    "train_pool = Pool(X_train, y_train, cat_features=cat_features)\n",
    "dev_pool = Pool(X_test, y_test, cat_features=cat_features)\n",
    "\n",
    "param_grid = {\n",
    "    \"n_estimators\": randint(1, 400),\n",
    "    \"learning_rate\": uniform(1e-3,  1e-1),\n",
    "    \"depth\": randint(1, 15)}\n",
    "\n",
    "\n",
    "cat_model = CatBoostRegressor(task_type=\"CPU\",  \n",
    "                              devices='0:1', \n",
    "                              logging_level='Silent', \n",
    "                              random_seed=0,\n",
    "                              cat_features=cat_features)\n",
    "\n",
    "randomized_search_result = cat_model.randomized_search(param_grid,\n",
    "                                                        X=X,\n",
    "                                                        y=y,\n",
    "                                                        plot=False,\n",
    "                                                        verbose=True)"
   ]
  },
  {
   "cell_type": "code",
   "execution_count": 6,
   "metadata": {},
   "outputs": [
    {
     "name": "stdout",
     "output_type": "stream",
     "text": [
      "RMSLE: 0.11276031721525373\n",
      "RMSLE: 0.126782685725767\n"
     ]
    }
   ],
   "source": [
    "evaluate(cat_model, X_train, y_train)\n",
    "evaluate(cat_model, X_test, y_test)"
   ]
  }
 ],
 "metadata": {
  "interpreter": {
   "hash": "ac59ebe37160ed0dfa835113d9b8498d9f09ceb179beaac4002f036b9467c963"
  },
  "kernelspec": {
   "display_name": "Python 3.9.7 64-bit",
   "language": "python",
   "name": "python3"
  },
  "language_info": {
   "codemirror_mode": {
    "name": "ipython",
    "version": 3
   },
   "file_extension": ".py",
   "mimetype": "text/x-python",
   "name": "python",
   "nbconvert_exporter": "python",
   "pygments_lexer": "ipython3",
   "version": "3.9.7"
  },
  "orig_nbformat": 4
 },
 "nbformat": 4,
 "nbformat_minor": 2
}
